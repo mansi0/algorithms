{
 "cells": [
  {
   "cell_type": "markdown",
   "id": "decreased-mountain",
   "metadata": {},
   "source": [
    "# Left Rotation\n",
    "\n",
    "A left rotation operation on an array of size  shifts each of the array's elements  unit to the left. Given an integer, , rotate the array that many steps left and return the result.\n",
    "\n",
    "Example\n",
    "\n",
    "\n",
    "After  rotations, .\n",
    "\n",
    "Function Description\n",
    "\n",
    "Complete the rotateLeft function in the editor below.\n",
    "\n",
    "rotateLeft has the following parameters:\n",
    "\n",
    "int d: the amount to rotate by\n",
    "int arr[n]: the array to rotate\n",
    "Returns\n",
    "\n",
    "int[n]: the rotated array\n",
    "Input Format\n",
    "\n",
    "The first line contains two space-separated integers that denote , the number of integers, and , the number of left rotations to perform.\n",
    "The second line contains  space-separated integers that describe .\n",
    "\n",
    "Constraints\n",
    "\n",
    "Sample Input\n",
    "\n",
    "5 4\n",
    "1 2 3 4 5\n",
    "Sample Output\n",
    "\n",
    "5 1 2 3 4\n",
    "Explanation\n",
    "\n",
    "To perform  left rotations, the array undergoes the following sequence of changes:\n",
    "\n"
   ]
  },
  {
   "cell_type": "code",
   "execution_count": 1,
   "id": "rocky-handy",
   "metadata": {},
   "outputs": [
    {
     "name": "stdout",
     "output_type": "stream",
     "text": [
      "5 4 \n",
      "1 2 3 4 5\n",
      "[5, 1, 2, 3, 4]\n"
     ]
    }
   ],
   "source": [
    "#!/bin/python3\n",
    "\n",
    "import math\n",
    "import os\n",
    "import random\n",
    "import re\n",
    "import sys\n",
    "\n",
    "#\n",
    "# Complete the 'rotateLeft' function below.\n",
    "#\n",
    "# The function is expected to return an INTEGER_ARRAY.\n",
    "# The function accepts following parameters:\n",
    "#  1. INTEGER d\n",
    "#  2. INTEGER_ARRAY arr\n",
    "#\n",
    "\n",
    "def rotateLeft(d, arr):\n",
    "    # Write your code here\n",
    "    #d = n - d \n",
    "    brr = []\n",
    "    j = 0\n",
    "    for i in range(d,n) :\n",
    "        brr.insert(j,arr[i])\n",
    "        j += 1\n",
    "    for i in range(0,d) :\n",
    "         brr.insert(j,arr[i])\n",
    "         j+= 1\n",
    "        \n",
    "    return brr\n",
    "\n",
    "if __name__ == '__main__':\n",
    "    #fptr = open(os.environ['OUTPUT_PATH'], 'w')\n",
    "\n",
    "    first_multiple_input = input().rstrip().split()\n",
    "\n",
    "    n = int(first_multiple_input[0])\n",
    "\n",
    "    d = int(first_multiple_input[1])\n",
    "\n",
    "    arr = list(map(int, input().rstrip().split()))\n",
    "\n",
    "    result = rotateLeft(d, arr)\n",
    "\n",
    "    print(result)\n",
    "    \n"
   ]
  },
  {
   "cell_type": "code",
   "execution_count": 23,
   "id": "korean-exchange",
   "metadata": {},
   "outputs": [
    {
     "name": "stdout",
     "output_type": "stream",
     "text": [
      "1 1 1 0 0 0\n",
      "0 1 0 0 0 0\n",
      "1 1 1 0 0 0\n",
      "0 0 2 4 4 0\n",
      "0 0 0 2 0 0\n",
      "0 0 1 2 4 0   \n",
      "19\n"
     ]
    }
   ],
   "source": [
    "#!/bin/python3\n",
    "\n",
    "\n",
    "import math\n",
    "import os\n",
    "import random\n",
    "import re\n",
    "import sys\n",
    "from array import *\n",
    "#\n",
    "# Complete the 'hourglassSum' function below.\n",
    "#\n",
    "# The function is expected to return an INTEGER.\n",
    "# The function accepts 2D_INTEGER_ARRAY arr as parameter.\n",
    "#\n",
    "\n",
    "def hourglassSum(arr):\n",
    "    # Write your code here\n",
    "    sum = 0\n",
    "    jrr = []\n",
    "    brr = [[]]\n",
    "    maxsum=0\n",
    "    for i in range(0,4) :\n",
    "        for j in range(0,4) :\n",
    "            sum = arr[i][j] + arr[i][j+1] + arr[i][j+2]+arr[i+1][j+1]+arr[i+2][j] + arr[i+2][j+1] + arr[i+2][j+2]\n",
    "            if(sum>maxsum) :\n",
    "                maxsum = sum\n",
    "            '''print(sum)\n",
    "            jrr.insert(j,sum)\n",
    "        print(jrr,i)\n",
    "        brr.append(jrr)\n",
    "        jrr.clear()\n",
    "    \n",
    "    for i in range(0,4) :\n",
    "        for j in range(0,4) :\n",
    "            print(brr[i][j])\n",
    "    maxSum = 0\n",
    "    \n",
    "\n",
    "    #T = [[11, 12, 5, 2], [15, 6,10], [10, 8, 12, 5], [12,15,8,6]]\n",
    "    for r in brr:\n",
    "        for c in r:\n",
    "            print(c,end = \" \")\n",
    "    \n",
    "    \n",
    "    for i in range(0,4) :\n",
    "        for j in range(0,4) :\n",
    "            if (brr[i][j] > maxSum) :\n",
    "                maxSum = brr[i][j] '''\n",
    "    return maxsum\n",
    "\n",
    "if __name__ == '__main__':\n",
    "\n",
    "    arr = []\n",
    "\n",
    "    for _ in range(6):\n",
    "        arr.append(list(map(int, input().rstrip().split())))\n",
    "\n",
    "    result = hourglassSum(arr)\n",
    "    print(result)\n",
    "\n",
    "# 1 1 1 0 0 0\n",
    "# 0 1 0 0 0 0\n",
    "# 1 1 1 0 0 0\n",
    "# 0 0 2 4 4 0\n",
    "# 0 0 0 2 0 0\n",
    "# 0 0 1 2 4 0   "
   ]
  },
  {
   "cell_type": "code",
   "execution_count": 16,
   "id": "paperback-nightlife",
   "metadata": {},
   "outputs": [
    {
     "name": "stdout",
     "output_type": "stream",
     "text": [
      "[[0, 0], [0, 1], [0, 2], [1, 0], [1, 1], [1, 2], [2, 0], [2, 1], [2, 2]]\n"
     ]
    }
   ],
   "source": [
    "qq = []\n",
    "for row in range(3):\n",
    "    for col in range(3):\n",
    "        qq.append([row, col])\n",
    "        \n",
    "print(qq)"
   ]
  },
  {
   "cell_type": "markdown",
   "id": "signal-range",
   "metadata": {},
   "source": [
    "## Sparse Arrays\n",
    "sample input\n",
    "4\n",
    "aba\n",
    "baba\n",
    "aba\n",
    "xzxb\n",
    "3\n",
    "aba\n",
    "xzxb\n",
    "ab\n",
    "\n",
    "Sample Output 1\n",
    "\n",
    "2\n",
    "1\n",
    "0\n",
    "Explanation 1\n",
    "\n",
    "Here, \"aba\" occurs twice, in the first and third string. The string \"xzxb\" occurs once in the fourth string, and \"ab\" does not occur at all."
   ]
  },
  {
   "cell_type": "code",
   "execution_count": 4,
   "id": "wanted-sight",
   "metadata": {},
   "outputs": [
    {
     "name": "stdout",
     "output_type": "stream",
     "text": [
      "3\n",
      "def\n",
      "de\n",
      "fgh\n",
      "3\n",
      "de\n",
      "lmn\n",
      "fgh\n",
      "[1, 0, 1]\n"
     ]
    },
    {
     "data": {
      "text/plain": [
       "'\\n3\\ndef\\nde\\nfgh\\n3\\nde\\nlmn\\nfgh'"
      ]
     },
     "execution_count": 4,
     "metadata": {},
     "output_type": "execute_result"
    }
   ],
   "source": [
    "#!/bin/python3\n",
    "\n",
    "import math\n",
    "import os\n",
    "import random\n",
    "import re\n",
    "import sys\n",
    "\n",
    "#\n",
    "# Complete the 'matchingStrings' function below.\n",
    "#\n",
    "# The function is expected to return an INTEGER_ARRAY.\n",
    "# The function accepts following parameters:\n",
    "#  1. STRING_ARRAY strings\n",
    "#  2. STRING_ARRAY queries\n",
    "#\n",
    "def checkCount(query, strings) :\n",
    "    n=0\n",
    "    for i in range(0,len(strings)):\n",
    "        if strings[i] == query :\n",
    "            n += 1\n",
    "    return n\n",
    "def matchingStrings(strings, queries):\n",
    "    # Write your code here\n",
    "    n = []\n",
    "    for i in range(0,len(queries)) :\n",
    "        n.insert(i,checkCount(queries[i] , strings))\n",
    "        \n",
    "    return n\n",
    "\n",
    "if __name__ == '__main__':\n",
    "    #fptr = open(os.environ['OUTPUT_PATH'], 'w')\n",
    "\n",
    "    strings_count = int(input().strip())\n",
    "\n",
    "    strings = []\n",
    "\n",
    "    for _ in range(strings_count):\n",
    "        strings_item = input()\n",
    "        strings.append(strings_item)\n",
    "\n",
    "    queries_count = int(input().strip())\n",
    "\n",
    "    queries = []\n",
    "\n",
    "    for _ in range(queries_count):\n",
    "        queries_item = input()\n",
    "        queries.append(queries_item)\n",
    "\n",
    "    res = matchingStrings(strings, queries)\n",
    "\n",
    "    print(res)\n",
    "    #fptr.write('\\n'.join(map(str, res)))\n",
    "    #fptr.write('\\n')\n",
    "\n",
    "    #fptr.close()\n",
    "'''\n",
    "3\n",
    "def\n",
    "de\n",
    "fgh\n",
    "3\n",
    "de\n",
    "lmn\n",
    "fgh'''"
   ]
  },
  {
   "cell_type": "markdown",
   "id": "violent-train",
   "metadata": {},
   "source": [
    "## Sparse arrays\n",
    "\n",
    "### There is a collection of input strings and a collection of query strings. For each query string, determine how many times it occurs in the list of input strings. Return an array of the results."
   ]
  },
  {
   "cell_type": "code",
   "execution_count": 6,
   "id": "distant-malawi",
   "metadata": {},
   "outputs": [
    {
     "name": "stdout",
     "output_type": "stream",
     "text": [
      "3\n",
      "ab\n",
      "ab\n",
      "abc\n",
      "3\n",
      "ab\n",
      "abc\n",
      "bc\n",
      "[2, 1, 0]\n"
     ]
    }
   ],
   "source": [
    "#!/bin/python3\n",
    "\n",
    "import math\n",
    "import os\n",
    "import random\n",
    "import re\n",
    "import sys\n",
    "\n",
    "#\n",
    "# Complete the 'matchingStrings' function below.\n",
    "#\n",
    "# The function is expected to return an INTEGER_ARRAY.\n",
    "# The function accepts following parameters:\n",
    "#  1. STRING_ARRAY strings\n",
    "#  2. STRING_ARRAY queries\n",
    "#\n",
    "\n",
    "def matchingStrings(strings, queries):\n",
    "    # Write your code here\n",
    "    cntarray = []\n",
    "    cnt = 0\n",
    "    for s1 in queries :\n",
    "        for s2 in strings :\n",
    "            if s1 == s2 :\n",
    "                cnt += 1\n",
    "        cntarray.append(cnt)\n",
    "        cnt = 0\n",
    "    return cntarray\n",
    "\n",
    "if __name__ == '__main__':\n",
    "    \n",
    "\n",
    "    strings_count = int(input().strip())\n",
    "\n",
    "    strings = []\n",
    "\n",
    "    for _ in range(strings_count):\n",
    "        strings_item = input()\n",
    "        strings.append(strings_item)\n",
    "\n",
    "    queries_count = int(input().strip())\n",
    "\n",
    "    queries = []\n",
    "\n",
    "    for _ in range(queries_count):\n",
    "        queries_item = input()\n",
    "        queries.append(queries_item)\n",
    "\n",
    "    res = matchingStrings(strings, queries)\n",
    "\n",
    "    print(res)\n",
    "    \n"
   ]
  },
  {
   "cell_type": "code",
   "execution_count": 18,
   "id": "worse-blues",
   "metadata": {},
   "outputs": [
    {
     "ename": "KeyboardInterrupt",
     "evalue": "Interrupted by user",
     "output_type": "error",
     "traceback": [
      "\u001b[0;31m---------------------------------------------------------------------------\u001b[0m",
      "\u001b[0;31mKeyboardInterrupt\u001b[0m                         Traceback (most recent call last)",
      "\u001b[0;32m<ipython-input-18-5dc32a0aec6f>\u001b[0m in \u001b[0;36m<module>\u001b[0;34m\u001b[0m\n\u001b[1;32m     39\u001b[0m         \u001b[0mmerge\u001b[0m\u001b[0;34m(\u001b[0m\u001b[0ma\u001b[0m\u001b[0;34m,\u001b[0m\u001b[0mm\u001b[0m\u001b[0;34m,\u001b[0m\u001b[0ml\u001b[0m\u001b[0;34m,\u001b[0m\u001b[0mn\u001b[0m\u001b[0;34m)\u001b[0m\u001b[0;34m\u001b[0m\u001b[0;34m\u001b[0m\u001b[0m\n\u001b[1;32m     40\u001b[0m \u001b[0;34m\u001b[0m\u001b[0m\n\u001b[0;32m---> 41\u001b[0;31m \u001b[0ma\u001b[0m \u001b[0;34m=\u001b[0m \u001b[0;34m[\u001b[0m\u001b[0mint\u001b[0m\u001b[0;34m(\u001b[0m\u001b[0mitem\u001b[0m\u001b[0;34m)\u001b[0m \u001b[0;32mfor\u001b[0m \u001b[0mitem\u001b[0m \u001b[0;32min\u001b[0m \u001b[0minput\u001b[0m\u001b[0;34m(\u001b[0m\u001b[0;34m\"Enter Elements in List : \"\u001b[0m\u001b[0;34m)\u001b[0m\u001b[0;34m.\u001b[0m\u001b[0msplit\u001b[0m\u001b[0;34m(\u001b[0m\u001b[0;34m)\u001b[0m\u001b[0;34m]\u001b[0m\u001b[0;34m\u001b[0m\u001b[0;34m\u001b[0m\u001b[0m\n\u001b[0m\u001b[1;32m     42\u001b[0m \u001b[0mmergeSort\u001b[0m\u001b[0;34m(\u001b[0m\u001b[0ma\u001b[0m\u001b[0;34m,\u001b[0m\u001b[0;36m0\u001b[0m\u001b[0;34m,\u001b[0m\u001b[0;34m(\u001b[0m\u001b[0mlen\u001b[0m\u001b[0;34m(\u001b[0m\u001b[0ma\u001b[0m\u001b[0;34m)\u001b[0m\u001b[0;34m-\u001b[0m\u001b[0;36m1\u001b[0m\u001b[0;34m)\u001b[0m\u001b[0;34m)\u001b[0m\u001b[0;34m\u001b[0m\u001b[0;34m\u001b[0m\u001b[0m\n\u001b[1;32m     43\u001b[0m \u001b[0mprint\u001b[0m\u001b[0;34m(\u001b[0m\u001b[0ma\u001b[0m\u001b[0;34m)\u001b[0m\u001b[0;34m\u001b[0m\u001b[0;34m\u001b[0m\u001b[0m\n",
      "\u001b[0;32m~/.local/lib/python3.8/site-packages/ipykernel/kernelbase.py\u001b[0m in \u001b[0;36mraw_input\u001b[0;34m(self, prompt)\u001b[0m\n\u001b[1;32m    855\u001b[0m                 \u001b[0;34m\"raw_input was called, but this frontend does not support input requests.\"\u001b[0m\u001b[0;34m\u001b[0m\u001b[0;34m\u001b[0m\u001b[0m\n\u001b[1;32m    856\u001b[0m             )\n\u001b[0;32m--> 857\u001b[0;31m         return self._input_request(str(prompt),\n\u001b[0m\u001b[1;32m    858\u001b[0m             \u001b[0mself\u001b[0m\u001b[0;34m.\u001b[0m\u001b[0m_parent_ident\u001b[0m\u001b[0;34m,\u001b[0m\u001b[0;34m\u001b[0m\u001b[0;34m\u001b[0m\u001b[0m\n\u001b[1;32m    859\u001b[0m             \u001b[0mself\u001b[0m\u001b[0;34m.\u001b[0m\u001b[0m_parent_header\u001b[0m\u001b[0;34m,\u001b[0m\u001b[0;34m\u001b[0m\u001b[0;34m\u001b[0m\u001b[0m\n",
      "\u001b[0;32m~/.local/lib/python3.8/site-packages/ipykernel/kernelbase.py\u001b[0m in \u001b[0;36m_input_request\u001b[0;34m(self, prompt, ident, parent, password)\u001b[0m\n\u001b[1;32m    899\u001b[0m             \u001b[0;32mexcept\u001b[0m \u001b[0mKeyboardInterrupt\u001b[0m\u001b[0;34m:\u001b[0m\u001b[0;34m\u001b[0m\u001b[0;34m\u001b[0m\u001b[0m\n\u001b[1;32m    900\u001b[0m                 \u001b[0;31m# re-raise KeyboardInterrupt, to truncate traceback\u001b[0m\u001b[0;34m\u001b[0m\u001b[0;34m\u001b[0m\u001b[0;34m\u001b[0m\u001b[0m\n\u001b[0;32m--> 901\u001b[0;31m                 \u001b[0;32mraise\u001b[0m \u001b[0mKeyboardInterrupt\u001b[0m\u001b[0;34m(\u001b[0m\u001b[0;34m\"Interrupted by user\"\u001b[0m\u001b[0;34m)\u001b[0m \u001b[0;32mfrom\u001b[0m \u001b[0;32mNone\u001b[0m\u001b[0;34m\u001b[0m\u001b[0;34m\u001b[0m\u001b[0m\n\u001b[0m\u001b[1;32m    902\u001b[0m             \u001b[0;32mexcept\u001b[0m \u001b[0mException\u001b[0m \u001b[0;32mas\u001b[0m \u001b[0me\u001b[0m\u001b[0;34m:\u001b[0m\u001b[0;34m\u001b[0m\u001b[0;34m\u001b[0m\u001b[0m\n\u001b[1;32m    903\u001b[0m                 \u001b[0mself\u001b[0m\u001b[0;34m.\u001b[0m\u001b[0mlog\u001b[0m\u001b[0;34m.\u001b[0m\u001b[0mwarning\u001b[0m\u001b[0;34m(\u001b[0m\u001b[0;34m\"Invalid Message:\"\u001b[0m\u001b[0;34m,\u001b[0m \u001b[0mexc_info\u001b[0m\u001b[0;34m=\u001b[0m\u001b[0;32mTrue\u001b[0m\u001b[0;34m)\u001b[0m\u001b[0;34m\u001b[0m\u001b[0;34m\u001b[0m\u001b[0m\n",
      "\u001b[0;31mKeyboardInterrupt\u001b[0m: Interrupted by user"
     ]
    }
   ],
   "source": [
    "def merge(a, l , m , n) :\n",
    "    b = [0] * len(a)\n",
    "    i = l\n",
    "    j = m+1\n",
    "    k = l\n",
    "    while(i <= l and j <= n) :\n",
    "        if a[i] <= a[j] :\n",
    "            b[k] = a[i]\n",
    "            #b.insert(k,a[i])\n",
    "            i += 1\n",
    "            k += 1\n",
    "        else : \n",
    "            b[k] = a[j]\n",
    "            #b.insert(k,a[j]) \n",
    "            j += 1\n",
    "            k += 1\n",
    "    while i <= m :\n",
    "        b[k] = a[i]\n",
    "        #b.insert(k, a[i]) \n",
    "        i += 1\n",
    "        k += 1\n",
    "    while j <= n :\n",
    "       # b.insert(k,a[j]) \n",
    "        b[k] = a[j]\n",
    "        j += 1\n",
    "        k += 1\n",
    "\n",
    "    while(l <= n) :\n",
    "        #a.insert(temp,b[temp])\n",
    "        a[l] = b[l]\n",
    "        l += 1\n",
    "       # a[i] = b[i]\n",
    "    #print(b)\n",
    "def mergeSort(a,m,n) :\n",
    "    if m < n :\n",
    "        l = (m+n) // 2\n",
    "        mergeSort(a,m,l)\n",
    "        mergeSort(a,l+1,n)\n",
    "        merge(a,m,l,n)\n",
    "     \n",
    "a = [int(item) for item in input(\"Enter Elements in List : \").split()]   \n",
    "mergeSort(a,0,(len(a)-1))\n",
    "print(a)\n",
    "    "
   ]
  },
  {
   "cell_type": "code",
   "execution_count": null,
   "id": "talented-blink",
   "metadata": {},
   "outputs": [],
   "source": [
    "a = [1,2,3,4]\n",
    "a.insert(2,5)\n",
    "print(a)\n",
    "prices = [99.95, 72.50, 30.00, 29.95, 55.00]\n",
    "prices[0] = 104.95\n",
    "print(prices)"
   ]
  },
  {
   "cell_type": "code",
   "execution_count": 20,
   "id": "exclusive-public",
   "metadata": {},
   "outputs": [
    {
     "data": {
      "text/plain": [
       "8.0"
      ]
     },
     "execution_count": 20,
     "metadata": {},
     "output_type": "execute_result"
    }
   ],
   "source": [
    "import math\n",
    "math.pow(2,3)"
   ]
  },
  {
   "cell_type": "code",
   "execution_count": 42,
   "id": "minus-screen",
   "metadata": {},
   "outputs": [
    {
     "ename": "AttributeError",
     "evalue": "'str' object has no attribute 'sscending'",
     "output_type": "error",
     "traceback": [
      "\u001b[0;31m---------------------------------------------------------------------------\u001b[0m",
      "\u001b[0;31mAttributeError\u001b[0m                            Traceback (most recent call last)",
      "\u001b[0;32m<ipython-input-42-c8ce9a704d9d>\u001b[0m in \u001b[0;36m<module>\u001b[0;34m\u001b[0m\n\u001b[1;32m      1\u001b[0m \u001b[0ml1\u001b[0m \u001b[0;34m=\u001b[0m \u001b[0;34m\"aegb\"\u001b[0m\u001b[0;34m\u001b[0m\u001b[0;34m\u001b[0m\u001b[0m\n\u001b[0;32m----> 2\u001b[0;31m \u001b[0ml1\u001b[0m\u001b[0;34m.\u001b[0m\u001b[0msscending\u001b[0m\u001b[0;34m(\u001b[0m\u001b[0;34m)\u001b[0m\u001b[0;34m\u001b[0m\u001b[0;34m\u001b[0m\u001b[0m\n\u001b[0m\u001b[1;32m      3\u001b[0m \u001b[0;31m#l1.reverse()\u001b[0m\u001b[0;34m\u001b[0m\u001b[0;34m\u001b[0m\u001b[0;34m\u001b[0m\u001b[0m\n\u001b[1;32m      4\u001b[0m \u001b[0mprint\u001b[0m\u001b[0;34m(\u001b[0m\u001b[0ml1\u001b[0m\u001b[0;34m)\u001b[0m\u001b[0;34m\u001b[0m\u001b[0;34m\u001b[0m\u001b[0m\n",
      "\u001b[0;31mAttributeError\u001b[0m: 'str' object has no attribute 'sscending'"
     ]
    }
   ],
   "source": [
    "l1 = ['a','e','b','g','d']\n"
   ]
  },
  {
   "cell_type": "code",
   "execution_count": 40,
   "id": "amended-rolling",
   "metadata": {},
   "outputs": [
    {
     "name": "stdout",
     "output_type": "stream",
     "text": [
      "[3, 2, 1]\n",
      "3.0 1.0 3\n",
      "4.0 2.0 2\n",
      "4.0 4.0 1\n"
     ]
    },
    {
     "data": {
      "text/plain": [
       "11.0"
      ]
     },
     "execution_count": 40,
     "metadata": {},
     "output_type": "execute_result"
    }
   ],
   "source": [
    "def marcsCakewalk(calorie):\n",
    "    # Write your code here\n",
    "    calorie.sort()\n",
    "    calorie.reverse()\n",
    "    print(calorie)\n",
    "    sumcalories = 0\n",
    "    for i in range(0 , len(calorie)) :\n",
    "        print(math.pow(2,i) * calorie[i], math.pow(2,i) , calorie[i] )\n",
    "        sumcalories = sumcalories + (math.pow(2,i) * calorie[i])\n",
    "        \n",
    "    \n",
    "    return sumcalories\n",
    "calorie = [1,3,2]\n",
    "marcsCakewalk(calorie)"
   ]
  },
  {
   "cell_type": "markdown",
   "id": "several-stream",
   "metadata": {},
   "source": [
    "## Lilys Homework"
   ]
  },
  {
   "cell_type": "code",
   "execution_count": 7,
   "id": "surface-escape",
   "metadata": {},
   "outputs": [
    {
     "name": "stdout",
     "output_type": "stream",
     "text": [
      "4\n",
      "2 3 5 6\n",
      "0 2\n",
      "1 3\n",
      "2 5\n",
      "3 6\n",
      "Position dict is : {2: 0, 3: 1, 5: 2, 6: 3}\n",
      "[2, 3, 5, 6]  sorted array\n",
      "0 6\n",
      "1 5\n",
      "2 3\n",
      "3 2\n",
      "Position dict is : {6: 0, 5: 1, 3: 2, 2: 3}\n",
      "[2, 3, 5, 6]  sorted array\n",
      "^^^^^ 2 3 6 0\n",
      "^^^^^ 3 2 5 1\n",
      "0\n",
      "\n"
     ]
    }
   ],
   "source": [
    "### import math\n",
    "import os\n",
    "import random\n",
    "import re\n",
    "import sys\n",
    "\n",
    "#\n",
    "# Complete the 'lilysHomework' function below.\n",
    "#\n",
    "# The function is expected to return an INTEGER.\n",
    "# The function accepts INTEGER_ARRAY arr as parameter.\n",
    "#\n",
    "\n",
    "def homework(arr):\n",
    "    # Write your code here\n",
    "    position = dict()\n",
    "    for i , num in enumerate(arr) :\n",
    "        print( i , num)\n",
    "        position[num] = i\n",
    "    print(\"Position dict is :\",position)\n",
    "    cnt = 0\n",
    "    sorted_arr = sorted(arr)\n",
    "    print(sorted_arr, \" sorted array\")\n",
    "    for i in range(len(arr)) :\n",
    "        if arr[i] != sorted_arr[i] :\n",
    "            print (\"^^^^^\",sorted_arr[i] ,position[sorted_arr[i]], arr[i] , position[arr[i]] )\n",
    "            newIndex = position[sorted_arr[i]] \n",
    "            position[arr[i]] = newIndex\n",
    "            arr[i] ,arr[newIndex] = arr[newIndex] , arr[i]\n",
    "            cnt+=1\n",
    "            \n",
    "    return cnt\n",
    "def lilysHomework(arr) :\n",
    "    asc = homework(list(arr))\n",
    "    desc = homework(list(reversed(arr)))\n",
    "    return min(asc,desc)\n",
    "    \n",
    "\n",
    "if __name__ == '__main__':\n",
    "    #fptr = open(os.environ['OUTPUT_PATH'], 'w')\n",
    "\n",
    "    n = int(input().strip())\n",
    "\n",
    "    arr = list(map(int, input().rstrip().split()))\n",
    "\n",
    "    result = lilysHomework(arr)\n",
    "\n",
    "    print(str(result) + '\\n')\n",
    "\n",
    "    #fptr.close()\n"
   ]
  },
  {
   "cell_type": "markdown",
   "id": "crucial-match",
   "metadata": {},
   "source": [
    "## Shrerlock string"
   ]
  },
  {
   "cell_type": "code",
   "execution_count": 11,
   "id": "innocent-embassy",
   "metadata": {},
   "outputs": [
    {
     "name": "stdout",
     "output_type": "stream",
     "text": [
      "abcd\n"
     ]
    },
    {
     "ename": "ValueError",
     "evalue": "dictionary update sequence element #0 has length 1; 2 is required",
     "output_type": "error",
     "traceback": [
      "\u001b[0;31m---------------------------------------------------------------------------\u001b[0m",
      "\u001b[0;31mValueError\u001b[0m                                Traceback (most recent call last)",
      "\u001b[0;32m<ipython-input-11-920427e822b1>\u001b[0m in \u001b[0;36m<module>\u001b[0;34m\u001b[0m\n\u001b[1;32m     32\u001b[0m     \u001b[0ms\u001b[0m \u001b[0;34m=\u001b[0m \u001b[0minput\u001b[0m\u001b[0;34m(\u001b[0m\u001b[0;34m)\u001b[0m\u001b[0;34m\u001b[0m\u001b[0;34m\u001b[0m\u001b[0m\n\u001b[1;32m     33\u001b[0m \u001b[0;34m\u001b[0m\u001b[0m\n\u001b[0;32m---> 34\u001b[0;31m     \u001b[0mresult\u001b[0m \u001b[0;34m=\u001b[0m \u001b[0misValid\u001b[0m\u001b[0;34m(\u001b[0m\u001b[0ms\u001b[0m\u001b[0;34m)\u001b[0m\u001b[0;34m\u001b[0m\u001b[0;34m\u001b[0m\u001b[0m\n\u001b[0m\u001b[1;32m     35\u001b[0m \u001b[0;34m\u001b[0m\u001b[0m\n\u001b[1;32m     36\u001b[0m     \u001b[0mwrite\u001b[0m\u001b[0;34m(\u001b[0m\u001b[0mresult\u001b[0m \u001b[0;34m+\u001b[0m \u001b[0;34m'\\n'\u001b[0m\u001b[0;34m)\u001b[0m\u001b[0;34m\u001b[0m\u001b[0;34m\u001b[0m\u001b[0m\n",
      "\u001b[0;32m<ipython-input-11-920427e822b1>\u001b[0m in \u001b[0;36misValid\u001b[0;34m(s)\u001b[0m\n\u001b[1;32m     19\u001b[0m     \u001b[0md\u001b[0m\u001b[0;34m.\u001b[0m\u001b[0msetdefault\u001b[0m\u001b[0;34m(\u001b[0m\u001b[0;36m0\u001b[0m\u001b[0;34m)\u001b[0m\u001b[0;34m\u001b[0m\u001b[0;34m\u001b[0m\u001b[0m\n\u001b[1;32m     20\u001b[0m     \u001b[0;32mfor\u001b[0m \u001b[0mi\u001b[0m \u001b[0;32min\u001b[0m \u001b[0ms\u001b[0m \u001b[0;34m:\u001b[0m\u001b[0;34m\u001b[0m\u001b[0;34m\u001b[0m\u001b[0m\n\u001b[0;32m---> 21\u001b[0;31m         \u001b[0md\u001b[0m\u001b[0;34m.\u001b[0m\u001b[0mupdate\u001b[0m\u001b[0;34m(\u001b[0m\u001b[0mi\u001b[0m\u001b[0;34m)\u001b[0m\u001b[0;34m\u001b[0m\u001b[0;34m\u001b[0m\u001b[0m\n\u001b[0m\u001b[1;32m     22\u001b[0m         \u001b[0md\u001b[0m\u001b[0;34m[\u001b[0m\u001b[0mi\u001b[0m\u001b[0;34m]\u001b[0m \u001b[0;34m+=\u001b[0m\u001b[0;36m1\u001b[0m\u001b[0;34m\u001b[0m\u001b[0;34m\u001b[0m\u001b[0m\n\u001b[1;32m     23\u001b[0m \u001b[0;34m\u001b[0m\u001b[0m\n",
      "\u001b[0;31mValueError\u001b[0m: dictionary update sequence element #0 has length 1; 2 is required"
     ]
    }
   ],
   "source": [
    "#!/bin/python3\n",
    "\n",
    "import math\n",
    "import os\n",
    "import random\n",
    "import re\n",
    "import sys\n",
    "\n",
    "#\n",
    "# Complete the 'isValid' function below.\n",
    "#\n",
    "# The function is expected to return a STRING.\n",
    "# The function accepts STRING s as parameter.\n",
    "#\n",
    "\n",
    "def isValid(s):\n",
    "    # Write your code here\n",
    "    d = dict()\n",
    "    d.setdefault(0)\n",
    "    for i in s :\n",
    "        d.update(i)\n",
    "        d[i] +=1\n",
    "            \n",
    "    print(d)\n",
    "    #for i in s :\n",
    "     #   if d.index(s)\n",
    "    return \"No\"\n",
    "        \n",
    "if __name__ == '__main__':\n",
    "    #fptr = open(os.environ['OUTPUT_PATH'], 'w')\n",
    "\n",
    "    s = input()\n",
    "\n",
    "    result = isValid(s)\n",
    "\n",
    "    write(result + '\\n')\n",
    "\n",
    "    #fptr.close()\n"
   ]
  }
 ],
 "metadata": {
  "kernelspec": {
   "display_name": "Python 3",
   "language": "python",
   "name": "python3"
  },
  "language_info": {
   "codemirror_mode": {
    "name": "ipython",
    "version": 3
   },
   "file_extension": ".py",
   "mimetype": "text/x-python",
   "name": "python",
   "nbconvert_exporter": "python",
   "pygments_lexer": "ipython3",
   "version": "3.8.2"
  }
 },
 "nbformat": 4,
 "nbformat_minor": 5
}
