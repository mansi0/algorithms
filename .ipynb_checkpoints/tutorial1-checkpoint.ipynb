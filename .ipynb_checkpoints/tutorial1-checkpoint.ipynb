{
 "cells": [
  {
   "cell_type": "markdown",
   "id": "preliminary-scope",
   "metadata": {},
   "source": [
    "## 1. 10 machines make golden coins. One machine makes only one coin of 10g. After some time one machine becomes faulty and starts making 9g or 11g coins. Write an efficient program to detect the faulty machine using a suitable design strategy."
   ]
  },
  {
   "cell_type": "code",
   "execution_count": 5,
   "id": "pursuant-sender",
   "metadata": {},
   "outputs": [
    {
     "name": "stdout",
     "output_type": "stream",
     "text": [
      "Enter 10 Weight of gold coin produced by each machine : 10 10 10 9 10 10 10 10 10 10\n",
      "4 machin is faulty\n"
     ]
    }
   ],
   "source": [
    "a = [int(item) for item in input(\"Enter 10 Weight of gold coin produced by each machine : \").split()] \n",
    "\n",
    "Calculated_Weight = sum(a)\n",
    "Expected_Weight = 10 * 10\n",
    "diff = Calculated_Weight - Expected_Weight\n",
    "\n",
    "for i in range(len(a)) :\n",
    "    if (a[i] != 10) :\n",
    "        print(i+1,\"machin is faulty\")\n"
   ]
  },
  {
   "cell_type": "markdown",
   "id": "seven-benjamin",
   "metadata": {},
   "source": [
    "## 2. Consider a sequence of numbers from a1,a2,a3......an−1;1≤ai≤n , where the numbers are not sorted and one number is missing. Write an efficient program to trace the missing number."
   ]
  },
  {
   "cell_type": "code",
   "execution_count": 3,
   "id": "cubic-charleston",
   "metadata": {},
   "outputs": [
    {
     "name": "stdout",
     "output_type": "stream",
     "text": [
      "Enter Nos in list : 8 9 7 6 5 4 1 3\n",
      "missing no is :  2.0\n"
     ]
    }
   ],
   "source": [
    "def getMissingNo(a) :\n",
    "    length = len(a)\n",
    "    sum_of_a = sum(a)\n",
    "    Actual_sum = (length+1)*(length+2)/2\n",
    "    return Actual_sum - sum_of_a\n",
    "\n",
    "a = [int(item) for item in input(\"Enter Nos in list : \").split()] \n",
    "missing_no = getMissingNo(a)\n",
    "print(\"missing no is : \",missing_no)"
   ]
  }
 ],
 "metadata": {
  "kernelspec": {
   "display_name": "Python 3",
   "language": "python",
   "name": "python3"
  },
  "language_info": {
   "codemirror_mode": {
    "name": "ipython",
    "version": 3
   },
   "file_extension": ".py",
   "mimetype": "text/x-python",
   "name": "python",
   "nbconvert_exporter": "python",
   "pygments_lexer": "ipython3",
   "version": "3.8.2"
  }
 },
 "nbformat": 4,
 "nbformat_minor": 5
}
