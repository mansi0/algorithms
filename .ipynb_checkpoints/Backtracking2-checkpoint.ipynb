{
 "cells": [
  {
   "cell_type": "markdown",
   "id": "roman-chicken",
   "metadata": {},
   "source": [
    "## Write an efficient algorithm to solve the m-colorability  problem using backtracking."
   ]
  },
  {
   "cell_type": "raw",
   "id": "christian-bahrain",
   "metadata": {},
   "source": [
    "\n",
    " Algorithm :\n",
    " We now give a recursive version of the graph coloring algorithm. Let C[1...j−1] be a partial coloring for the first j − 1 nodes.\n",
    " Color(C,j,k,n)\n",
    " if j = n+1 then\n",
    "    output C\n",
    "    return or quit\n",
    " for i = 1 to k\n",
    "    C[j] = i\n",
    "    if valid(C,j,n) then\n",
    "    Color(C,j+1,k,n)\n",
    "    where\n",
    "    Valid(C,j,n)\n",
    " for all neighbors v of j with v < j\n",
    "   if C[v] = C[j] then\n",
    "   return false\n",
    "return true"
   ]
  },
  {
   "cell_type": "code",
   "execution_count": 15,
   "id": "clinical-activation",
   "metadata": {},
   "outputs": [
    {
     "name": "stdout",
     "output_type": "stream",
     "text": [
      "Solution Exists: Following are the assigned colors \n",
      "1 2 3 2 "
     ]
    }
   ],
   "source": [
    "def isSafe(graph, color):\n",
    "\n",
    "\n",
    "    for i in range(4):\n",
    "        for j in range(i + 1, 4):\n",
    "            if (graph[i][j] and color[j] == color[i]):\n",
    "                return False\n",
    "    return True\n",
    "\n",
    "def graphColoring(graph, m, i, color):\n",
    "\n",
    "    if (i == 4):\n",
    "\n",
    "\n",
    "        if (isSafe(graph, color)) :\n",
    "            printSolution(color)\n",
    "            return True\n",
    "        return False\n",
    "\n",
    "\n",
    "    for j in range(1, m + 1):\n",
    "        color[i] = j\n",
    "\n",
    "        if (graphColoring(graph, m, i + 1, color)):\n",
    "            return True\n",
    "        color[i] = 0\n",
    "    return False\n",
    "\n",
    "def printSolution(color):\n",
    "    print(\"Solution Exists:\" \" Following are the assigned colors \")\n",
    "    for i in range(4):\n",
    "        print(color[i],end=\" \")\n",
    "\n",
    "if __name__ == '__main__':\n",
    "    graph = [\n",
    "        [ 0, 1, 1, 1 ],\n",
    "        [ 1, 0, 1, 0 ],\n",
    "        [ 1, 1, 0, 1 ],\n",
    "        [ 1, 0, 1, 0 ],\n",
    "    ]\n",
    "    m = 3 # Number of colors\n",
    "\n",
    "    color = [0 for i in range(4)]\n",
    "\n",
    "    if (not graphColoring(graph, m, 0, color)):\n",
    "        print (\"Solution does not exist\")\n",
    "\n",
    "\n"
   ]
  },
  {
   "cell_type": "markdown",
   "id": "located-possibility",
   "metadata": {},
   "source": [
    "## write an algorithm to find all the Hamiltonian cycles of a given graph and compute its time complexity."
   ]
  },
  {
   "cell_type": "raw",
   "id": "fourth-mills",
   "metadata": {},
   "source": [
    "while there are untried conflagrations\n",
    "{\n",
    "   generate the next configuration\n",
    "   if ( there are edges between two consecutive vertices of this\n",
    "      configuration and there is an edge from the last vertex to \n",
    "      the first ).\n",
    "   {\n",
    "      print this configuration;\n",
    "      break;\n",
    "   }\n",
    "}"
   ]
  },
  {
   "cell_type": "code",
   "execution_count": 12,
   "id": "twenty-worth",
   "metadata": {},
   "outputs": [
    {
     "name": "stdout",
     "output_type": "stream",
     "text": [
      "Cycles present in GraphS :\n",
      "0 1 2 3 4 5 0 \n",
      "0 1 5 4 3 2 0 \n",
      "0 2 3 4 1 5 0 \n",
      "0 2 3 4 5 1 0 \n",
      "0 5 1 4 3 2 0 \n",
      "0 5 4 3 2 1 0 \n"
     ]
    }
   ],
   "source": [
    "hasCycle = False\n",
    "def isSafe(v,graph,path,pos) :\n",
    "    if(graph[path[pos-1]][v] == 0) :\n",
    "        return False\n",
    "    for i in range(0,pos) :\n",
    "        if (path[i] == v) :\n",
    "            return False\n",
    "    return True\n",
    "\n",
    "def hamiltonianCycle(graph,n) :\n",
    "    hasCycle = False\n",
    "    path = []\n",
    "    path.append(0)\n",
    "    visited = [False]*n\n",
    "    visited[0] = True\n",
    "    findHamiltonianCycle(graph,1,path,visited,n)\n",
    "    \n",
    "    if(hasCycle  == True) :\n",
    "        print(\"No Ham Cycle is possible\")\n",
    "        return\n",
    "def findHamiltonianCycle(graph,pos,path,visited,n) :\n",
    "    if(pos == n) :\n",
    "        if(graph[path[n-1]][path[0]] != 0) :\n",
    "            path.append(0);\n",
    "            for i in range(0,len(path)) :\n",
    "                print(path[i],end=' ')\n",
    "            print()\n",
    "            del path[len(path)-1]\n",
    "            hasCycle = True\n",
    "        return\n",
    "    for v in range(0,n) :\n",
    "        if(isSafe(v,graph,path,pos ) and visited[v] == False) :\n",
    "            path.append(v)\n",
    "            visited[v] = True\n",
    "            \n",
    "            findHamiltonianCycle(graph,pos+1,path,visited,n)\n",
    "            visited[v] = False \n",
    "            del path[len(path)-1]\n",
    "\n",
    "\n",
    "            \n",
    "if __name__ == \"__main__\" :\n",
    "    graph = [\n",
    "            [ 0, 1, 1, 0, 0, 1 ],\n",
    "            [ 1, 0, 1, 0, 1, 1 ],\n",
    "            [ 1, 1, 0, 1, 0, 0 ],\n",
    "            [ 0, 0, 1, 0, 1, 0 ],\n",
    "            [ 0, 1, 0, 1, 0, 1 ],\n",
    "            [ 1, 1, 0, 0, 1, 0 ],\n",
    "        ]\n",
    "    print(\"Cycles present in GraphS :\")\n",
    "    hamiltonianCycle(graph,len(graph))\n",
    "    \n",
    "\n",
    "    \n",
    "        "
   ]
  },
  {
   "cell_type": "markdown",
   "id": "strategic-estate",
   "metadata": {},
   "source": [
    "## Time Complexity :\n",
    "    Here we are fixing starting vertex to 0. And value of n is 6 so \n",
    "    0 ,_ , _, _ , _ , _\n",
    "    The algorithm will check which value is suitable at 5 places so time complexity is 5!\n",
    "    For n node graph the algorithm will traverse(n-1)! times which is roughly (n!) and hence time complexity is 0(n^n)."
   ]
  }
 ],
 "metadata": {
  "kernelspec": {
   "display_name": "Python 3",
   "language": "python",
   "name": "python3"
  },
  "language_info": {
   "codemirror_mode": {
    "name": "ipython",
    "version": 3
   },
   "file_extension": ".py",
   "mimetype": "text/x-python",
   "name": "python",
   "nbconvert_exporter": "python",
   "pygments_lexer": "ipython3",
   "version": "3.8.2"
  }
 },
 "nbformat": 4,
 "nbformat_minor": 5
}
