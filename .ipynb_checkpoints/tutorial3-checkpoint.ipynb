{
 "cells": [
  {
   "cell_type": "markdown",
   "id": "acute-favorite",
   "metadata": {},
   "source": [
    "## a. atleast one matching pair.\n",
    "\n",
    "### To have at least one matching pair we have to go through all the colors, and always get one side (always right hand or always left hand). We get 5 black gloves, then 3 white gloves, and then 2 red gloves. The next glove HAS to be the glove to complete the pair. So the minimum gloves needed to guarantee 1 pair is 5+3+2+1 = 11.\n",
    "\n",
    "\n",
    "one matching pair = (number of pairs of each color)+1 \n",
    "\n",
    "## b. atleast one matching pair of each color.\n",
    "\n",
    "### To have at least one pair of EACH color then we have to get the all pairs of the colors except for the last color. The worst case is to choose all the black gloves, then all the white gloves, then 2 red gloves of the same hand. The next glove has be the matching pair to the red glove. So the minimum gloves needed is (5×2)+(3×2)+2+1 = 19.\n",
    "\n",
    "one matching pair of each color = Σ from i = 1 to n-1(no of pairs of ith socks * 2 ) + \n",
    "                                   (no of pair of nth socks) +1\n",
    "                                   \n",
    "                                  where n = no of colours of gloves.\n",
    "\n"
   ]
  },
  {
   "cell_type": "markdown",
   "id": "unexpected-simpson",
   "metadata": {},
   "source": [
    "# Algorithm :"
   ]
  },
  {
   "cell_type": "code",
   "execution_count": null,
   "id": "vital-google",
   "metadata": {},
   "outputs": [],
   "source": [
    "step 1 : start\n",
    "step 2 : Input value of how many colours are present of gloves\n",
    "step 4 : for i in range(0,n) :\n",
    "                socks[i] = input(no of pairs of ith gloves)\n",
    "        end for\n",
    "step 5 : for i in range(0,n) :\n",
    "                one_matching_pair += socks[i]\n",
    "        end for\n",
    "        one_matching_pair += 1\n",
    "step 6 : for i in range(0,n-1) :\n",
    "                one_matching_pair_of_each_color += (socks[i]*2)\n",
    "        end for\n",
    "        one_matching_pair_of_each_color += socks[n-1] +1\n",
    "        \n",
    "step 7:print(one_matching_pair,one_matching_pair_of_each_color)"
   ]
  },
  {
   "cell_type": "markdown",
   "id": "useful-quarter",
   "metadata": {},
   "source": [
    "# Code"
   ]
  },
  {
   "cell_type": "code",
   "execution_count": 13,
   "id": "painted-recipe",
   "metadata": {},
   "outputs": [
    {
     "name": "stdout",
     "output_type": "stream",
     "text": [
      "Enter how many colours of socks are present :3\n",
      "Enter no of pairs of 1 th socks:\n",
      "5\n",
      "Enter no of pairs of 2 th socks:\n",
      "3\n",
      "Enter no of pairs of 3 th socks:\n",
      "2\n",
      "Output:\n",
      "To get atleast one matching pair 11 number of gloves need to select in worst case\n",
      "10\n",
      "16\n",
      "19\n",
      "To get atleast one matching pair of each colour 19 number of gloves need to select in worst case\n"
     ]
    }
   ],
   "source": [
    "n = int(input(\"Enter how many colours of gloves are present :\"))\n",
    "socks=[]\n",
    "for i in range(n) :\n",
    "    print(\"Enter no of pairs of\",i+1, \"th gloves:\")\n",
    "    socks.append(int(input()))\n",
    "\n",
    "#To get atleast one matching pair\n",
    "one_matching_pair = 0\n",
    "for i in range(n) :\n",
    "    one_matching_pair += socks[i]\n",
    "one_matching_pair += 1\n",
    "\n",
    "print(\"Output:\")\n",
    "print(\"To get atleast one matching pair\",one_matching_pair, \"number of gloves need to select in worst case\")\n",
    "\n",
    "#b. atleast one matching pair of each color.\n",
    "one_matching_pair_of_each_color = 0\n",
    "for i in range(n-1) :\n",
    "    one_matching_pair_of_each_color += (socks[i]*2)\n",
    "one_matching_pair_of_each_color += socks[n-1]+1\n",
    "\n",
    "\n",
    "print(\"To get atleast one matching pair of each colour\",one_matching_pair_of_each_color, \"number of gloves need to select in worst case\")\n",
    "    \n",
    "    "
   ]
  },
  {
   "cell_type": "markdown",
   "id": "referenced-amsterdam",
   "metadata": {},
   "source": []
  },
  {
   "cell_type": "code",
   "execution_count": null,
   "id": "narrow-experiment",
   "metadata": {},
   "outputs": [],
   "source": []
  }
 ],
 "metadata": {
  "kernelspec": {
   "display_name": "Python 3",
   "language": "python",
   "name": "python3"
  },
  "language_info": {
   "codemirror_mode": {
    "name": "ipython",
    "version": 3
   },
   "file_extension": ".py",
   "mimetype": "text/x-python",
   "name": "python",
   "nbconvert_exporter": "python",
   "pygments_lexer": "ipython3",
   "version": "3.8.2"
  }
 },
 "nbformat": 4,
 "nbformat_minor": 5
}
