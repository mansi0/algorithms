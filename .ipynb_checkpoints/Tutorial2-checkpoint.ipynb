{
 "cells": [
  {
   "cell_type": "markdown",
   "id": "indirect-preservation",
   "metadata": {},
   "source": [
    "## A maze is given as N*N binary matrix of blocks. The source or start block is the upper leftmost block, ie maze[0][0] and destination block is lower rightmost block ie maze[N-1][N-1]. A rat starts from source and has to reach destination. The rat can move only in 2 directions ie right and down in the matrix.\n",
    "\n",
    "Suggest a suitable design strategy and write an efficient algorithm for the same. "
   ]
  },
  {
   "cell_type": "code",
   "execution_count": 5,
   "id": "subtle-consumption",
   "metadata": {},
   "outputs": [
    {
     "name": "stdout",
     "output_type": "stream",
     "text": [
      "Enter value of N:4\n",
      "Optimised solution : Path is shown in One: \n",
      "1 0 0 0 \n",
      "1 0 0 0 \n",
      "1 0 0 0 \n",
      "1 1 1 1 \n"
     ]
    }
   ],
   "source": [
    "def printSolution( sol ):\n",
    "\n",
    "    print(\"Optimised solution : Path is shown in One: \")\n",
    "    for i in sol:\n",
    "        for j in i:\n",
    "            print(str(j) + \" \", end =\"\")\n",
    "        print(\"\")\n",
    "\n",
    "def solveMazeProblem(maze,n) :\n",
    "    sol = [[0 for j in range(n)] for i in range(n)]\n",
    "    if solveMazeUtil(maze ,0,0,n,sol) == False :\n",
    "        print(\"Solution doesn't exist\");\n",
    "        return False\n",
    "    printSolution(sol)\n",
    "    return True\n",
    "def isSafe( maze, x, y ,N):\n",
    "\n",
    "    if x >= 0 and x < N and y >= 0 and y < N and maze[x][y] == 1:\n",
    "        return True\n",
    "\n",
    "    return False\n",
    "def solveMazeUtil(maze, x, y, N, sol):\n",
    "\n",
    "    # if (x, y is goal) return True\n",
    "    if x == N - 1 and y == N - 1 and maze[x][y]== 1:\n",
    "        sol[x][y] = 1\n",
    "        return True\n",
    "\n",
    "    # Check if maze[x][y] is valid\n",
    "    if isSafe(maze, x, y,N) == True:\n",
    "        # Check if the current block is already part of solution path.\n",
    "        if sol[x][y] == 1:\n",
    "            return False\n",
    "        \n",
    "        # mark x, y as part of solution path\n",
    "        sol[x][y] = 1\n",
    "\n",
    "        # Move forward in x direction\n",
    "        if solveMazeUtil(maze, x + 1, y, N, sol) == True:\n",
    "            return True\n",
    "\n",
    "        # If moving in x direction doesn't give solution\n",
    "        # then Move down in y direction\n",
    "        if solveMazeUtil(maze, x, y + 1, N, sol) == True:\n",
    "            return True\n",
    "\n",
    "        # If moving in y direction doesn't give solution then\n",
    "        # Move back in x direction\n",
    "        if solveMazeUtil(maze, x - 1, y,N, sol) == True:\n",
    "            return True\n",
    "    \n",
    "        # If moving in backwards in x direction doesn't give solution\n",
    "        # then Move upwards in y direction\n",
    "        if solveMazeUtil(maze, x, y - 1,N, sol) == True:\n",
    "            return True\n",
    "        \n",
    "        # If none of the above movements work then\n",
    "        # BACKTRACK: unmark x, y as part of solution path\n",
    "        sol[x][y] = 0\n",
    "        return False\n",
    "\n",
    "        \n",
    "        \n",
    "        \n",
    "if __name__ == \"__main__\" :\n",
    "    n= int(input(\"Enter value of N:\"));\n",
    "    #Initialising maze with value 1.\n",
    "    maze = [ [ 1 for j in range(n) ] for i in range(n) ]\n",
    "    solveMazeProblem(maze,n)"
   ]
  }
 ],
 "metadata": {
  "kernelspec": {
   "display_name": "Python 3",
   "language": "python",
   "name": "python3"
  },
  "language_info": {
   "codemirror_mode": {
    "name": "ipython",
    "version": 3
   },
   "file_extension": ".py",
   "mimetype": "text/x-python",
   "name": "python",
   "nbconvert_exporter": "python",
   "pygments_lexer": "ipython3",
   "version": "3.8.2"
  }
 },
 "nbformat": 4,
 "nbformat_minor": 5
}
