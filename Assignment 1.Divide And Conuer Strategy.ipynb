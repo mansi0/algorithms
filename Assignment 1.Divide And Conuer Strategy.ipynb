{
 "cells": [
  {
   "cell_type": "markdown",
   "id": "official-stability",
   "metadata": {},
   "source": [
    "## Merge Sort"
   ]
  },
  {
   "cell_type": "code",
   "execution_count": 61,
   "id": "chinese-costume",
   "metadata": {},
   "outputs": [
    {
     "name": "stdout",
     "output_type": "stream",
     "text": [
      "Enter Elements in List : 12 78 56 34 89 91 2\n",
      "[2, 12, 34, 56, 78, 89, 91]\n"
     ]
    }
   ],
   "source": [
    "def mergeSort(myList):\n",
    "    if len(myList) > 1:\n",
    "        mid = len(myList) // 2\n",
    "        left = myList[:mid]\n",
    "        right = myList[mid:]\n",
    "        mergeSort(left)\n",
    "        mergeSort(right)\n",
    "\n",
    "        i = 0\n",
    "        j = 0\n",
    "        \n",
    "        k = 0\n",
    "        \n",
    "        while i < len(left) and j < len(right):\n",
    "            if left[i] <= right[j]:\n",
    "              myList[k] = left[i]\n",
    "              i += 1\n",
    "            else:\n",
    "                myList[k] = right[j]\n",
    "                j += 1\n",
    "            \n",
    "            k += 1\n",
    "\n",
    "        \n",
    "        while i < len(left):\n",
    "            myList[k] = left[i]\n",
    "            i += 1\n",
    "            k += 1\n",
    "\n",
    "        while j < len(right):\n",
    "            myList[k]=right[j]\n",
    "            j += 1\n",
    "            k += 1\n",
    "if __name__ == '__main__':\n",
    "    a = [int(item) for item in input(\"Enter Elements in List : \").split()]   \n",
    "    mergeSort(a)\n",
    "    print(a)\n"
   ]
  },
  {
   "cell_type": "markdown",
   "id": "curious-springfield",
   "metadata": {},
   "source": [
    "## Binary Search"
   ]
  },
  {
   "cell_type": "code",
   "execution_count": 62,
   "id": "clean-office",
   "metadata": {},
   "outputs": [
    {
     "name": "stdout",
     "output_type": "stream",
     "text": [
      "Enter Elements in ascending order : 12 23 34 45 56 67 78 89\n",
      "Enter Key Element :23\n",
      "position of key is : 1\n"
     ]
    }
   ],
   "source": [
    "def binarySearch(a,lb,ub,key) :\n",
    "    if(lb<ub) :\n",
    "        mid = (lb+ub) // 2;\n",
    "        if(a[mid] == key) :\n",
    "            return mid\n",
    "        if(a[mid] > key) :\n",
    "            return binarySearch(a,lb,mid-1,key)\n",
    "        else : \n",
    "            return binarySearch(a , mid+1, ub,key)\n",
    "    else : return -1\n",
    " \n",
    "if __name__ == '__main__':\n",
    "    a = [int(item) for item in input(\"Enter Elements in ascending order : \").split()]   \n",
    "    key = int(input(\"Enter Key Element :\"))\n",
    "    result = binarySearch(a , 0 , len(a)-1 , key) \n",
    "    if result == -1 :\n",
    "        print(\"Element not found:\")\n",
    "    else : print(\"position of key is :\",result)\n",
    "\n",
    "        "
   ]
  }
 ],
 "metadata": {
  "kernelspec": {
   "display_name": "Python 3",
   "language": "python",
   "name": "python3"
  },
  "language_info": {
   "codemirror_mode": {
    "name": "ipython",
    "version": 3
   },
   "file_extension": ".py",
   "mimetype": "text/x-python",
   "name": "python",
   "nbconvert_exporter": "python",
   "pygments_lexer": "ipython3",
   "version": "3.8.2"
  }
 },
 "nbformat": 4,
 "nbformat_minor": 5
}
