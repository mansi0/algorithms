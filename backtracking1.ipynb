{
 "cells": [
  {
   "cell_type": "markdown",
   "id": "sitting-patio",
   "metadata": {},
   "source": [
    "## Write an efficient program to solve the N-Queens problem using Backtracking. Also compute the time complexity of your code."
   ]
  },
  {
   "cell_type": "code",
   "execution_count": 28,
   "id": "russian-child",
   "metadata": {},
   "outputs": [
    {
     "name": "stdout",
     "output_type": "stream",
     "text": [
      "Enter value of N:5\n",
      "Solution\n",
      "1 0 0 0 0 \n",
      "0 0 1 0 0 \n",
      "0 0 0 0 1 \n",
      "0 1 0 0 0 \n",
      "0 0 0 1 0 \n"
     ]
    }
   ],
   "source": [
    "def issafe(arr,n,row,col) :\n",
    "    #Check in row :\n",
    "    for i in range(n) :\n",
    "        if arr[i][col] == 1 :\n",
    "            return False\n",
    "    #check in col :\n",
    "    for i in range(n) :\n",
    "        if arr[row][i] == 1 :\n",
    "            return False\n",
    "    #check in upper dia :\n",
    "    j = col\n",
    "    for i in range(row,-1,-1):\n",
    "        if(j < 0) :\n",
    "            break\n",
    "        if arr[i][j] == 1:\n",
    "            return False\n",
    "        j-=1\n",
    "    return True        \n",
    "def printSol(arr,n) :\n",
    "    print(\"Solution\")\n",
    "    for i in range(n) :\n",
    "        for j in range(n) :\n",
    "            print(arr[i][j],end=' ')\n",
    "        print()\n",
    "    \n",
    "def nqueen(arr,n,row) :\n",
    "    if row == n :\n",
    "       \n",
    "        printSol(arr,n)\n",
    "        return True\n",
    "    for col in range(n) :\n",
    "        if issafe(arr,n,row,col) :\n",
    "            arr[row][col] = 1\n",
    "            if nqueen(arr,n,row+1) :\n",
    "                return True;\n",
    "            arr[row][col] = 0;\n",
    "    return False\n",
    "            \n",
    "\n",
    "if __name__ == \"__main__\" :\n",
    "    n = int(input(\"Enter value of N:\"))\n",
    "    arr = [[0 for j in range(n)] for i in range(n)]\n",
    "    nqueen(arr,n,0)"
   ]
  },
  {
   "cell_type": "markdown",
   "id": "established-school",
   "metadata": {},
   "source": [
    "Time Complexity :\n",
    "0(n^n)\n",
    "As for N*N board Every place is checked N times for N queens."
   ]
  }
 ],
 "metadata": {
  "kernelspec": {
   "display_name": "Python 3",
   "language": "python",
   "name": "python3"
  },
  "language_info": {
   "codemirror_mode": {
    "name": "ipython",
    "version": 3
   },
   "file_extension": ".py",
   "mimetype": "text/x-python",
   "name": "python",
   "nbconvert_exporter": "python",
   "pygments_lexer": "ipython3",
   "version": "3.8.2"
  }
 },
 "nbformat": 4,
 "nbformat_minor": 5
}
