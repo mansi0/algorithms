{
 "cells": [
  {
   "cell_type": "code",
   "execution_count": 25,
   "id": "cubic-bibliography",
   "metadata": {},
   "outputs": [
    {
     "name": "stdout",
     "output_type": "stream",
     "text": [
      "Enter n:5\n",
      "safe position: 3.0\n"
     ]
    }
   ],
   "source": [
    "#This solution is only for fixed value of k i.e. 2(Iterative solution)\n",
    "import math\n",
    "def josephus(n,k) :\n",
    "    i = math.floor(math.log(n) / math.log(2))\n",
    "    j = (2 * (n - (math.pow(2,i)))) + 1\n",
    "    print(\"safe position:\",j)\n",
    "j = int(input(\"Enter n:\"))\n",
    "josephus(j,2)"
   ]
  },
  {
   "cell_type": "code",
   "execution_count": 22,
   "id": "monthly-springfield",
   "metadata": {},
   "outputs": [
    {
     "name": "stdout",
     "output_type": "stream",
     "text": [
      "Enter n:5\n",
      "Enter k:3\n",
      "3\n"
     ]
    }
   ],
   "source": [
    "#If indexing  start at 0 then recursive solution is:\n",
    "def josephus(n,k) :\n",
    "    if n == 1 : \n",
    "        return 0\n",
    "    else :\n",
    "        return (josephus(n-1,k) + k) % n\n",
    "n = int(input(\"Enter n:\"))\n",
    "k = int(input(\"Enter k:\"))\n",
    "j=josephus(n,k)\n",
    "print(j)"
   ]
  },
  {
   "cell_type": "code",
   "execution_count": 28,
   "id": "immediate-belief",
   "metadata": {},
   "outputs": [
    {
     "name": "stdout",
     "output_type": "stream",
     "text": [
      "Enter n:6\n",
      "Enter k:2\n",
      "5\n"
     ]
    }
   ],
   "source": [
    "#If indexing  start at 1 then recursive solution is:\n",
    "def josephus(n,k) :\n",
    "    if n == 1 : \n",
    "        return 1\n",
    "    else :\n",
    "        return (josephus(n-1,k) + k-1) % n+1\n",
    "n = int(input(\"Enter n:\"))\n",
    "k = int(input(\"Enter k:\"))\n",
    "j=josephus(n,k)\n",
    "print(j)\n"
   ]
  },
  {
   "cell_type": "code",
   "execution_count": 76,
   "id": "danish-throw",
   "metadata": {},
   "outputs": [
    {
     "name": "stdout",
     "output_type": "stream",
     "text": [
      "Enter n:7\n",
      "Enter k:2\n",
      "7\n"
     ]
    }
   ],
   "source": [
    "#indexing start at 1\n",
    "import math\n",
    "def josephus(n,k) :\n",
    "    if n == 1 : \n",
    "        return 1\n",
    "    elif n%2 == 0 :                              #if n is even\n",
    "        return (2 * (josephus((n/2) , k)) - 1)\n",
    "                \n",
    "    else :                                       #if n is odd\n",
    "        return (2 * (josephus( n//2 , k )) + 1)\n",
    "    \n",
    "n = int(input(\"Enter n:\"))\n",
    "k = int(input(\"Enter k:\"))\n",
    "j=josephus(n,k)\n",
    "print(j)\n"
   ]
  },
  {
   "cell_type": "code",
   "execution_count": 78,
   "id": "auburn-start",
   "metadata": {},
   "outputs": [
    {
     "name": "stdout",
     "output_type": "stream",
     "text": [
      "28\n"
     ]
    }
   ],
   "source": [
    "print(14<<1)"
   ]
  },
  {
   "cell_type": "code",
   "execution_count": 2,
   "id": "aerial-uncertainty",
   "metadata": {},
   "outputs": [
    {
     "name": "stdout",
     "output_type": "stream",
     "text": [
      "1\n",
      "8\n",
      "10\n",
      "4\n",
      "100\n",
      "2\n",
      "100\n",
      "i= 2\n"
     ]
    }
   ],
   "source": [
    "def toBinary(n) :\n",
    "    str1 =\"\"\n",
    "    while(n > 2) :\n",
    "        str1 += str(n%2)\n",
    "        print(str1)\n",
    "        n = n//2\n",
    "        print(n)\n",
    "    \n",
    "    print(str1)\n",
    "    i = int(str1[::-1]) + 1\n",
    "    print(\"i=\",i)\n",
    "        \n",
    "\n",
    "toBinary(17)"
   ]
  },
  {
   "cell_type": "code",
   "execution_count": 4,
   "id": "psychological-progress",
   "metadata": {},
   "outputs": [
    {
     "ename": "KeyError",
     "evalue": "'OUTPUT_PATH'",
     "output_type": "error",
     "traceback": [
      "\u001b[0;31m---------------------------------------------------------------------------\u001b[0m",
      "\u001b[0;31mKeyError\u001b[0m                                  Traceback (most recent call last)",
      "\u001b[0;32m<ipython-input-4-3e42b25f8abc>\u001b[0m in \u001b[0;36m<module>\u001b[0;34m\u001b[0m\n\u001b[1;32m     17\u001b[0m \u001b[0;34m\u001b[0m\u001b[0m\n\u001b[1;32m     18\u001b[0m \u001b[0;32mif\u001b[0m \u001b[0m__name__\u001b[0m \u001b[0;34m==\u001b[0m \u001b[0;34m'__main__'\u001b[0m\u001b[0;34m:\u001b[0m\u001b[0;34m\u001b[0m\u001b[0;34m\u001b[0m\u001b[0m\n\u001b[0;32m---> 19\u001b[0;31m     \u001b[0mfptr\u001b[0m \u001b[0;34m=\u001b[0m \u001b[0mopen\u001b[0m\u001b[0;34m(\u001b[0m\u001b[0mos\u001b[0m\u001b[0;34m.\u001b[0m\u001b[0menviron\u001b[0m\u001b[0;34m[\u001b[0m\u001b[0;34m'OUTPUT_PATH'\u001b[0m\u001b[0;34m]\u001b[0m\u001b[0;34m,\u001b[0m \u001b[0;34m'w'\u001b[0m\u001b[0;34m)\u001b[0m\u001b[0;34m\u001b[0m\u001b[0;34m\u001b[0m\u001b[0m\n\u001b[0m\u001b[1;32m     20\u001b[0m \u001b[0;34m\u001b[0m\u001b[0m\n\u001b[1;32m     21\u001b[0m     \u001b[0marr_count\u001b[0m \u001b[0;34m=\u001b[0m \u001b[0mint\u001b[0m\u001b[0;34m(\u001b[0m\u001b[0minput\u001b[0m\u001b[0;34m(\u001b[0m\u001b[0;34m)\u001b[0m\u001b[0;34m.\u001b[0m\u001b[0mstrip\u001b[0m\u001b[0;34m(\u001b[0m\u001b[0;34m)\u001b[0m\u001b[0;34m)\u001b[0m\u001b[0;34m\u001b[0m\u001b[0;34m\u001b[0m\u001b[0m\n",
      "\u001b[0;32m/usr/lib/python3.8/os.py\u001b[0m in \u001b[0;36m__getitem__\u001b[0;34m(self, key)\u001b[0m\n\u001b[1;32m    673\u001b[0m         \u001b[0;32mexcept\u001b[0m \u001b[0mKeyError\u001b[0m\u001b[0;34m:\u001b[0m\u001b[0;34m\u001b[0m\u001b[0;34m\u001b[0m\u001b[0m\n\u001b[1;32m    674\u001b[0m             \u001b[0;31m# raise KeyError with the original key value\u001b[0m\u001b[0;34m\u001b[0m\u001b[0;34m\u001b[0m\u001b[0;34m\u001b[0m\u001b[0m\n\u001b[0;32m--> 675\u001b[0;31m             \u001b[0;32mraise\u001b[0m \u001b[0mKeyError\u001b[0m\u001b[0;34m(\u001b[0m\u001b[0mkey\u001b[0m\u001b[0;34m)\u001b[0m \u001b[0;32mfrom\u001b[0m \u001b[0;32mNone\u001b[0m\u001b[0;34m\u001b[0m\u001b[0;34m\u001b[0m\u001b[0m\n\u001b[0m\u001b[1;32m    676\u001b[0m         \u001b[0;32mreturn\u001b[0m \u001b[0mself\u001b[0m\u001b[0;34m.\u001b[0m\u001b[0mdecodevalue\u001b[0m\u001b[0;34m(\u001b[0m\u001b[0mvalue\u001b[0m\u001b[0;34m)\u001b[0m\u001b[0;34m\u001b[0m\u001b[0;34m\u001b[0m\u001b[0m\n\u001b[1;32m    677\u001b[0m \u001b[0;34m\u001b[0m\u001b[0m\n",
      "\u001b[0;31mKeyError\u001b[0m: 'OUTPUT_PATH'"
     ]
    }
   ],
   "source": [
    "import math\n",
    "import os\n",
    "import random\n",
    "import re\n",
    "import sys\n",
    "\n",
    "#\n",
    "# Complete the 'reverseArray' function below.\n",
    "#\n",
    "# The function is expected to return an INTEGER_ARRAY.\n",
    "# The function accepts INTEGER_ARRAY a as parameter.\n",
    "#\n",
    "\n",
    "def reverseArray(a):\n",
    "    # Write your code here\n",
    "    return a[::-1]\n",
    "    \n",
    "if __name__ == '__main__':\n",
    "    fptr = open(os.environ['OUTPUT_PATH'], 'w')\n",
    "\n",
    "    arr_count = int(input().strip())\n",
    "\n",
    "    arr = list(map(int, input().rstrip().split()))\n",
    "\n",
    "    res = reverseArray(arr)\n",
    "\n",
    "    fptr.write(' '.join(map(str, res)))\n",
    "    fptr.write('\\n')\n",
    "\n",
    "    fptr.close()\n"
   ]
  }
 ],
 "metadata": {
  "kernelspec": {
   "display_name": "Python 3",
   "language": "python",
   "name": "python3"
  },
  "language_info": {
   "codemirror_mode": {
    "name": "ipython",
    "version": 3
   },
   "file_extension": ".py",
   "mimetype": "text/x-python",
   "name": "python",
   "nbconvert_exporter": "python",
   "pygments_lexer": "ipython3",
   "version": "3.8.2"
  }
 },
 "nbformat": 4,
 "nbformat_minor": 5
}
