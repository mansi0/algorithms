{
 "cells": [
  {
   "cell_type": "code",
   "execution_count": 1,
   "id": "recognized-river",
   "metadata": {},
   "outputs": [
    {
     "name": "stdout",
     "output_type": "stream",
     "text": [
      "Enter n:5\n",
      "safe position: 3.0\n"
     ]
    }
   ],
   "source": [
    "#This solution is only for fixed value of k i.e. 2(Iterative solution)\n",
    "import math\n",
    "def josephus(n,k) :\n",
    "    i = math.floor(math.log(n) / math.log(2))\n",
    "    j = (2 * (n - (math.pow(2,i)))) + 1\n",
    "    print(\"safe position:\",j)\n",
    "j = int(input(\"Enter n:\"))\n",
    "josephus(j,2)"
   ]
  },
  {
   "cell_type": "code",
   "execution_count": 3,
   "id": "handy-confidence",
   "metadata": {},
   "outputs": [
    {
     "name": "stdout",
     "output_type": "stream",
     "text": [
      "Enter n:5\n",
      "Enter k:3\n",
      "3\n"
     ]
    }
   ],
   "source": [
    "#If indexing  start at 0 then recursive solution is:\n",
    "def josephus(n,k) :\n",
    "    if n == 1 : \n",
    "        return 0\n",
    "    else :\n",
    "        return (josephus(n-1,k) + k) % n\n",
    "n = int(input(\"Enter n:\"))\n",
    "k = int(input(\"Enter k:\"))\n",
    "j=josephus(n,k)\n",
    "print(j)"
   ]
  },
  {
   "cell_type": "code",
   "execution_count": 4,
   "id": "published-chick",
   "metadata": {},
   "outputs": [
    {
     "name": "stdout",
     "output_type": "stream",
     "text": [
      "Enter n:7\n",
      "Enter k:2\n",
      "7\n"
     ]
    }
   ],
   "source": [
    "#If indexing  start at 1 then recursive solution is:\n",
    "def josephus(n,k) :\n",
    "    if n == 1 : \n",
    "        return 1\n",
    "    else :\n",
    "        return (josephus(n-1,k) + k-1) % n+1\n",
    "n = int(input(\"Enter n:\"))\n",
    "k = int(input(\"Enter k:\"))\n",
    "j=josephus(n,k)\n",
    "print(j)\n"
   ]
  },
  {
   "cell_type": "code",
   "execution_count": 5,
   "id": "sealed-renaissance",
   "metadata": {},
   "outputs": [
    {
     "name": "stdout",
     "output_type": "stream",
     "text": [
      "Enter n:7\n",
      "Enter k:2\n",
      "7\n"
     ]
    }
   ],
   "source": [
    "#indexing start at 1\n",
    "import math\n",
    "def josephus(n,k) :\n",
    "    if n == 1 : \n",
    "        return 1\n",
    "    elif n%2 == 0 :                              #if n is even\n",
    "        return (2 * (josephus((n/2) , k)) - 1)\n",
    "                \n",
    "    else :                                       #if n is odd\n",
    "        return (2 * (josephus( n//2 , k )) + 1)\n",
    "    \n",
    "n = int(input(\"Enter n:\"))\n",
    "k = int(input(\"Enter k:\"))\n",
    "j=josephus(n,k)\n",
    "print(j)"
   ]
  },
  {
   "cell_type": "code",
   "execution_count": null,
   "id": "comparative-novel",
   "metadata": {},
   "outputs": [],
   "source": [
    "def toBinary(n) :\n",
    "    str1 =\"\"\n",
    "    while(n > 2) :\n",
    "        str1 += str(n%2)\n",
    "        print(str1)\n",
    "        n = n//2\n",
    "        print(n)\n",
    "    \n",
    "    print(str1)\n",
    "    i = int(str1[::-1]) + 1\n",
    "    print(\"i=\",i)\n",
    "        \n",
    "\n",
    "toBinary(17)"
   ]
  }
 ],
 "metadata": {
  "kernelspec": {
   "display_name": "Python 3",
   "language": "python",
   "name": "python3"
  },
  "language_info": {
   "codemirror_mode": {
    "name": "ipython",
    "version": 3
   },
   "file_extension": ".py",
   "mimetype": "text/x-python",
   "name": "python",
   "nbconvert_exporter": "python",
   "pygments_lexer": "ipython3",
   "version": "3.8.2"
  }
 },
 "nbformat": 4,
 "nbformat_minor": 5
}
