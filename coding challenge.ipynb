{
 "cells": [
  {
   "cell_type": "markdown",
   "id": "automotive-credits",
   "metadata": {},
   "source": [
    "Bank and its Cashier\n",
    "A customer comes to withdraw money from a bank. Unfortunately, that day the bank only has two types of currency notes to give: 1 unit and 2 unit. The manager, being amused by the incident, tried to have some fun and decided to create a challenge for the cashier team. She asked the team to minimize the difference between the number of the two types of currency notes. The manager also asked you to give her your solution. You decided to use computational power.What would be your solution?\n",
    "\n",
    "Constraints\n",
    "Only 1 and 2 unit currency notes are used.\n",
    "0 <= input integer < 109\n",
    "Input Format\n",
    "Integer (possibly very large): Amount customer wants to withdraw\n",
    "\n",
    "Output Format\n",
    "Single integer: Total number of notes\n",
    "Do not print Debug Statements while submitting the solution.\n",
    "\n",
    "Examples\n",
    "Input            |   Output [num1+num2]\n",
    "1000             |   667           Explanation : 1*334 + 2*333 = 1000\n",
    "1                |   1\n",
    "32               |   21"
   ]
  },
  {
   "cell_type": "code",
   "execution_count": 14,
   "id": "injured-plate",
   "metadata": {},
   "outputs": [
    {
     "name": "stdout",
     "output_type": "stream",
     "text": [
      "32\n",
      "11\n",
      "21\n"
     ]
    }
   ],
   "source": [
    "def sol(n):\n",
    "   #add code here\n",
    "    i=1\n",
    "    for i in range(1,n*40//100) :\n",
    "        if((3*i) - 2 == n) :\n",
    "            break\n",
    "    print(i)\n",
    "    return i+i-1\n",
    "\n",
    "# do not edit below code\n",
    "def main():\n",
    "    n=int(input())\n",
    "    print(sol(n))\n",
    "    \n",
    "\n",
    "if __name__ == '__main__':\n",
    "    main()"
   ]
  },
  {
   "cell_type": "markdown",
   "id": "suffering-citation",
   "metadata": {},
   "source": [
    "Securities buying\n",
    "Harry has just started investing in stock markets. There are a variety of securities that he can buy, but he is a bit confused about buying the securities because he has a limited amount of money. The prices of the various securities are given for N days and security_value[k] denotes the price of the security on the kth day. There is one more rule, Harry can buy at most k number of securities on the kth day. As mentioned earlier, Harry has a limited amount of money with him to buy these securities and this amount is denoted by z. Can you guide Harry in finding the maximum number of securities that he can buy?\n",
    "\n",
    "Constraints:\n",
    "All the security prices given in the security_value array are positive integers.\n",
    "\n",
    "Input Format:\n",
    "The first line contains an integer z denoting the limited amount which Harry has with him.\n",
    "The second line contains an array named security_value consisting of the prices of various securities on N different days.\n",
    "Output Format:\n",
    "An integer denoting maximum number of securities which Harry can buy with that limited amount(which is denoted by z).\n",
    "Do not print Debug Statements while submitting the solution.\n",
    "\n",
    "Examples:\n",
    "Example 1:\n",
    "Input:\n",
    "\n",
    "45\n",
    "10 7 19\n",
    "Output:\n",
    "\n",
    "4\n",
    "Explanation:\n",
    "\n",
    "Harry can buy: \n",
    "1 security of $10 + 2 securities of $7 + 1 security of $19, which would cost him $43 in total. And $43 < $45(z value).\n",
    "Hence total no. of securities he can purchase = 4\n",
    "Example 2:\n",
    "Input:\n",
    "\n",
    "64\n",
    "17 24 7 45 15 14 37 40 8 23 27 17\n",
    "Output:\n",
    "\n",
    "8"
   ]
  },
  {
   "cell_type": "code",
   "execution_count": 25,
   "id": "separated-sheffield",
   "metadata": {},
   "outputs": [
    {
     "name": "stdout",
     "output_type": "stream",
     "text": [
      "45\n",
      "10 7 19\n",
      "4\n"
     ]
    }
   ],
   "source": [
    "def securitiesBuying(z, security_value):\n",
    "    \n",
    "    no_of_stocks=0\n",
    "   #participants code here\n",
    "    money = 0\n",
    "    z = int(z[0])\n",
    "    i=0\n",
    "    for i in range(len(security_value)) :\n",
    "        if(money + (i+1)*int(security_value[i]) <= z) :\n",
    "            no_of_stocks += (i+1)\n",
    "            money += (i+1)*int(security_value[i])\n",
    "        else :\n",
    "            break\n",
    "    for j in range(1,i+1) :\n",
    "        if(money + j*int(security_value[i]) <= z) :\n",
    "            no_of_stocks += 1\n",
    "            money += j*int(security_value[i])\n",
    "        else :\n",
    "            break\n",
    "\n",
    "    return no_of_stocks\n",
    "\n",
    "\n",
    "def main():\n",
    "    z= input().split()\n",
    "    security_value = []\n",
    "    security_value = input().split()\n",
    "    no_of_stocks_purchased=securitiesBuying(z,security_value)\n",
    "    print(no_of_stocks_purchased)\n",
    "\n",
    "\n",
    "\n",
    "\n",
    "if __name__ == '__main__':\n",
    "    main()\n"
   ]
  }
 ],
 "metadata": {
  "kernelspec": {
   "display_name": "Python 3",
   "language": "python",
   "name": "python3"
  },
  "language_info": {
   "codemirror_mode": {
    "name": "ipython",
    "version": 3
   },
   "file_extension": ".py",
   "mimetype": "text/x-python",
   "name": "python",
   "nbconvert_exporter": "python",
   "pygments_lexer": "ipython3",
   "version": "3.8.2"
  }
 },
 "nbformat": 4,
 "nbformat_minor": 5
}
