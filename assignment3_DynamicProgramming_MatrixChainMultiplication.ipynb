{
 "cells": [
  {
   "cell_type": "code",
   "execution_count": 13,
   "id": "transparent-inclusion",
   "metadata": {},
   "outputs": [
    {
     "name": "stdout",
     "output_type": "stream",
     "text": [
      "Enter Dimention:10 30 5 60 20\n",
      "Minimum number of multiplications is  8500\n"
     ]
    }
   ],
   "source": [
    "import sys\n",
    "def MatrixChainOrder(p, i, j):\n",
    "\n",
    "    if i == j:\n",
    "        return 0\n",
    "    minvalue = sys.maxsize\n",
    "\n",
    "    for k in range(i, j):\n",
    "\n",
    "        count = (MatrixChainOrder(p, i, k) \n",
    "                 + MatrixChainOrder(p, k + 1, j) \n",
    "                 + p[i-1] * p[k] * p[j])\n",
    "\n",
    "        if count < minvalue:\n",
    "            minvalue = count\n",
    "\n",
    "    return minvalue\n",
    "\n",
    "arr = [int(pi) for pi in input(\"Enter Dimention:\").split()]\n",
    "n = len(arr)\n",
    "\n",
    "print(\"Minimum number of multiplications is \", MatrixChainOrder(arr, 1, n-1))\n",
    "\n",
    "\n"
   ]
  }
 ],
 "metadata": {
  "kernelspec": {
   "display_name": "Python 3",
   "language": "python",
   "name": "python3"
  },
  "language_info": {
   "codemirror_mode": {
    "name": "ipython",
    "version": 3
   },
   "file_extension": ".py",
   "mimetype": "text/x-python",
   "name": "python",
   "nbconvert_exporter": "python",
   "pygments_lexer": "ipython3",
   "version": "3.8.2"
  }
 },
 "nbformat": 4,
 "nbformat_minor": 5
}
